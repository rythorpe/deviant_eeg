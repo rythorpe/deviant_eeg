{
 "cells": [
  {
   "cell_type": "code",
   "execution_count": null,
   "id": "2d64b84b",
   "metadata": {},
   "outputs": [],
   "source": [
    "import os.path as op\n",
    "\n",
    "import numpy as np\n",
    "import matplotlib.pyplot as plt\n",
    "\n",
    "import mne\n",
    "mne.viz.set_browser_backend('qt')\n",
    "\n",
    "%matplotlib notebook"
   ]
  },
  {
   "cell_type": "code",
   "execution_count": null,
   "id": "6b3da8e2",
   "metadata": {},
   "outputs": [],
   "source": [
    "# load data\n",
    "data_dir = 'data_path'\n",
    "raw = mne.io.read_raw_brainvision(data_dir, eog=('EOG_aux1_vert', 'EOG_aux2_horz'))\n",
    "raw.set_channel_types = {'EOG_aux1_vert': 'eog', 'EOG_aux2_horz': 'eog'}"
   ]
  }
 ],
 "metadata": {
  "kernelspec": {
   "display_name": "Python 3 (ipykernel)",
   "language": "python",
   "name": "python3"
  },
  "language_info": {
   "codemirror_mode": {
    "name": "ipython",
    "version": 3
   },
   "file_extension": ".py",
   "mimetype": "text/x-python",
   "name": "python",
   "nbconvert_exporter": "python",
   "pygments_lexer": "ipython3",
   "version": "3.7.11"
  }
 },
 "nbformat": 4,
 "nbformat_minor": 5
}
